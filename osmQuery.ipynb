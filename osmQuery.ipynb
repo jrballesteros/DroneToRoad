{
 "cells": [
  {
   "cell_type": "code",
   "execution_count": 4,
   "metadata": {
    "ExecuteTime": {
     "end_time": "2021-04-08T23:19:41.103821Z",
     "start_time": "2021-04-08T23:19:36.918991Z"
    }
   },
   "outputs": [
    {
     "name": "stdout",
     "output_type": "stream",
     "text": [
      "Collecting overpass\n",
      "  Downloading overpass-0.7-py3-none-any.whl (10 kB)\n",
      "Requirement already satisfied: shapely>=1.6.4 in c:\\users\\john\\appdata\\roaming\\python\\python37\\site-packages (from overpass) (1.7.0)\n",
      "Requirement already satisfied: geojson>=1.0.9 in c:\\users\\john\\.conda\\envs\\py37\\lib\\site-packages (from overpass) (2.5.0)\n",
      "Requirement already satisfied: requests>=2.3.0 in c:\\users\\john\\appdata\\roaming\\python\\python37\\site-packages (from overpass) (2.23.0)\n",
      "Requirement already satisfied: certifi>=2017.4.17 in c:\\users\\john\\appdata\\roaming\\python\\python37\\site-packages (from requests>=2.3.0->overpass) (2019.11.28)\n",
      "Requirement already satisfied: chardet<4,>=3.0.2 in c:\\users\\john\\appdata\\roaming\\python\\python37\\site-packages (from requests>=2.3.0->overpass) (3.0.4)\n",
      "Requirement already satisfied: urllib3!=1.25.0,!=1.25.1,<1.26,>=1.21.1 in c:\\users\\john\\.conda\\envs\\py37\\lib\\site-packages (from requests>=2.3.0->overpass) (1.25.10)\n",
      "Requirement already satisfied: idna<3,>=2.5 in c:\\users\\john\\appdata\\roaming\\python\\python37\\site-packages (from requests>=2.3.0->overpass) (2.9)\n",
      "Installing collected packages: overpass\n",
      "Successfully installed overpass-0.7\n",
      "Note: you may need to restart the kernel to use updated packages.\n"
     ]
    },
    {
     "name": "stderr",
     "output_type": "stream",
     "text": [
      "WARNING: You are using pip version 20.0.2; however, version 21.0.1 is available.\n",
      "You should consider upgrading via the 'C:\\Users\\john\\.conda\\envs\\py37\\python.exe -m pip install --upgrade pip' command.\n"
     ]
    }
   ],
   "source": [
    "pip install overpass"
   ]
  },
  {
   "cell_type": "code",
   "execution_count": 2,
   "metadata": {
    "ExecuteTime": {
     "end_time": "2021-04-08T23:05:19.000504Z",
     "start_time": "2021-04-08T23:05:18.633359Z"
    },
    "collapsed": true
   },
   "outputs": [
    {
     "ename": "TypeError",
     "evalue": "request() got an unexpected keyword argument 'responseformat'",
     "output_type": "error",
     "traceback": [
      "\u001b[1;31m---------------------------------------------------------------------------\u001b[0m",
      "\u001b[1;31mTypeError\u001b[0m                                 Traceback (most recent call last)",
      "\u001b[1;32m<ipython-input-2-dfd751f1ebc2>\u001b[0m in \u001b[0;36m<module>\u001b[1;34m\u001b[0m\n\u001b[0;32m     22\u001b[0m \u001b[1;33m\u001b[0m\u001b[0m\n\u001b[0;32m     23\u001b[0m response = requests.get(overpass_url, \n\u001b[1;32m---> 24\u001b[1;33m                         params={'data': overpass_query}, responseformat=\"geojson\")\n\u001b[0m\u001b[0;32m     25\u001b[0m \u001b[1;33m\u001b[0m\u001b[0m\n\u001b[0;32m     26\u001b[0m \u001b[0mmydata\u001b[0m \u001b[1;33m=\u001b[0m \u001b[0mresponse\u001b[0m\u001b[1;33m.\u001b[0m\u001b[0mjson\u001b[0m\u001b[1;33m(\u001b[0m\u001b[1;33m)\u001b[0m\u001b[1;33m\u001b[0m\u001b[1;33m\u001b[0m\u001b[0m\n",
      "\u001b[1;32m~\\AppData\\Roaming\\Python\\Python37\\site-packages\\requests\\api.py\u001b[0m in \u001b[0;36mget\u001b[1;34m(url, params, **kwargs)\u001b[0m\n\u001b[0;32m     74\u001b[0m \u001b[1;33m\u001b[0m\u001b[0m\n\u001b[0;32m     75\u001b[0m     \u001b[0mkwargs\u001b[0m\u001b[1;33m.\u001b[0m\u001b[0msetdefault\u001b[0m\u001b[1;33m(\u001b[0m\u001b[1;34m'allow_redirects'\u001b[0m\u001b[1;33m,\u001b[0m \u001b[1;32mTrue\u001b[0m\u001b[1;33m)\u001b[0m\u001b[1;33m\u001b[0m\u001b[1;33m\u001b[0m\u001b[0m\n\u001b[1;32m---> 76\u001b[1;33m     \u001b[1;32mreturn\u001b[0m \u001b[0mrequest\u001b[0m\u001b[1;33m(\u001b[0m\u001b[1;34m'get'\u001b[0m\u001b[1;33m,\u001b[0m \u001b[0murl\u001b[0m\u001b[1;33m,\u001b[0m \u001b[0mparams\u001b[0m\u001b[1;33m=\u001b[0m\u001b[0mparams\u001b[0m\u001b[1;33m,\u001b[0m \u001b[1;33m**\u001b[0m\u001b[0mkwargs\u001b[0m\u001b[1;33m)\u001b[0m\u001b[1;33m\u001b[0m\u001b[1;33m\u001b[0m\u001b[0m\n\u001b[0m\u001b[0;32m     77\u001b[0m \u001b[1;33m\u001b[0m\u001b[0m\n\u001b[0;32m     78\u001b[0m \u001b[1;33m\u001b[0m\u001b[0m\n",
      "\u001b[1;32m~\\AppData\\Roaming\\Python\\Python37\\site-packages\\requests\\api.py\u001b[0m in \u001b[0;36mrequest\u001b[1;34m(method, url, **kwargs)\u001b[0m\n\u001b[0;32m     59\u001b[0m     \u001b[1;31m# cases, and look like a memory leak in others.\u001b[0m\u001b[1;33m\u001b[0m\u001b[1;33m\u001b[0m\u001b[1;33m\u001b[0m\u001b[0m\n\u001b[0;32m     60\u001b[0m     \u001b[1;32mwith\u001b[0m \u001b[0msessions\u001b[0m\u001b[1;33m.\u001b[0m\u001b[0mSession\u001b[0m\u001b[1;33m(\u001b[0m\u001b[1;33m)\u001b[0m \u001b[1;32mas\u001b[0m \u001b[0msession\u001b[0m\u001b[1;33m:\u001b[0m\u001b[1;33m\u001b[0m\u001b[1;33m\u001b[0m\u001b[0m\n\u001b[1;32m---> 61\u001b[1;33m         \u001b[1;32mreturn\u001b[0m \u001b[0msession\u001b[0m\u001b[1;33m.\u001b[0m\u001b[0mrequest\u001b[0m\u001b[1;33m(\u001b[0m\u001b[0mmethod\u001b[0m\u001b[1;33m=\u001b[0m\u001b[0mmethod\u001b[0m\u001b[1;33m,\u001b[0m \u001b[0murl\u001b[0m\u001b[1;33m=\u001b[0m\u001b[0murl\u001b[0m\u001b[1;33m,\u001b[0m \u001b[1;33m**\u001b[0m\u001b[0mkwargs\u001b[0m\u001b[1;33m)\u001b[0m\u001b[1;33m\u001b[0m\u001b[1;33m\u001b[0m\u001b[0m\n\u001b[0m\u001b[0;32m     62\u001b[0m \u001b[1;33m\u001b[0m\u001b[0m\n\u001b[0;32m     63\u001b[0m \u001b[1;33m\u001b[0m\u001b[0m\n",
      "\u001b[1;31mTypeError\u001b[0m: request() got an unexpected keyword argument 'responseformat'"
     ]
    }
   ],
   "source": [
    "import requests\n",
    "import json\n",
    "import os\n",
    "#import geojson\n",
    "\n",
    "## Let´s use the overpass API to conect to OSM\n",
    "overpass_url = \"http://overpass-api.de/api/interpreter\"\n",
    "overpass_query = \"\"\"\n",
    "[out:json][timeout:25];\n",
    "// gather results\n",
    "(\n",
    "  // query part for: “highway=*”\n",
    "  way[\"highway\"](6.053,-75.506,6.064,-75.499); // change for your bbox\n",
    ");\n",
    "// print results\n",
    "out body;\n",
    ">;\n",
    "out skel qt;\n",
    "\"\"\"\n",
    "\n",
    "#response = requests.get(overpass_url, data = overpass_query)\n",
    "\n",
    "response = requests.get(overpass_url, \n",
    "                        params={'data': overpass_query})\n",
    "\n",
    "mydata = response.json()\n",
    "#print(data)\n",
    "#j = json.loads(data)\n",
    "\n",
    "mypath = r\"C:\\Users\\john\\Downloads\\AutoMap\\datos\"\n",
    "#writeFile =open(os.path.join(mypath,'mydata.geojson'), 'w')\n",
    "#writeFile.write(data)\n",
    "#writeFile.close()\n",
    "\n",
    "with open(os.path.join(mypath, \"mydata1.geojson\"), 'w', encoding='utf-8') as myfile:\n",
    "    json.dump(mydata, myfile, ensure_ascii=False, indent=4)\n",
    "    #json.dump(j, myfile, ensure_ascii=False, indent=4)\n",
    "    #json.dump(data, myfile, ensure_ascii=False, indent=4)\n"
   ]
  },
  {
   "cell_type": "code",
   "execution_count": 8,
   "metadata": {
    "ExecuteTime": {
     "end_time": "2021-04-23T20:39:26.793021Z",
     "start_time": "2021-04-23T20:39:25.602869Z"
    },
    "slideshow": {
     "slide_type": "slide"
    }
   },
   "outputs": [
    {
     "name": "stdout",
     "output_type": "stream",
     "text": [
      "Se creo un mapa en geojson llamado:  roads.geojson\n"
     ]
    }
   ],
   "source": [
    "import os\n",
    "import overpass\n",
    "api = overpass.API()\n",
    "data = api.get('way[\"highway\"](6.66505,-75.19833,6.68374,-75.17573);', verbosity='geom', responseformat=\"geojson\")\n",
    "[f for f in data.features  if f.geometry['type'] == \"LineString\"]\n",
    "\n",
    "#mypath = r\"C:\\Users\\john\\Downloads\\AutoMap\\datos\"\n",
    "mypath = r\"C:\\Users\\john\\Downloads\"\n",
    "myname = \"roads.geojson\"\n",
    "with open(os.path.join(mypath, myname), 'w', encoding='utf-8') as myfile:\n",
    "    json.dump(data, myfile, ensure_ascii=False, indent=4)\n",
    "\n",
    "print(\"Se creo un mapa en geojson llamado: \", myname)"
   ]
  },
  {
   "cell_type": "code",
   "execution_count": 9,
   "metadata": {
    "ExecuteTime": {
     "end_time": "2021-04-23T20:40:22.946740Z",
     "start_time": "2021-04-23T20:40:22.740307Z"
    },
    "slideshow": {
     "slide_type": "slide"
    }
   },
   "outputs": [
    {
     "name": "stdout",
     "output_type": "stream",
     "text": [
      "Se ha creado con éxito un shapefile a partir de un geojson: 0.1894817352294922 roads.shp\n"
     ]
    }
   ],
   "source": [
    "import geopandas as gpd\n",
    "import time\n",
    "\n",
    "mytime = time.time()\n",
    "\n",
    "#mypath = r\"C:\\Users\\john\\Downloads\\AutoMap\\datos\"\n",
    "mypath = r\"C:\\Users\\john\\Downloads\"\n",
    "myname = \"roads.geojson\"\n",
    "mynameout = \"roads.shp\"\n",
    "mygeojson = gpd.read_file(os.path.join(mypath, myname))\n",
    "mygeojson.to_file(os.path.join(mypath, mynameout), driver='Shapefile')\n",
    "\n",
    "mytimef = time.time()\n",
    "print(\"Se ha creado con éxito un shapefile a partir de un geojson:\", (mytimef-mytime), mynameout)\n"
   ]
  }
 ],
 "metadata": {
  "celltoolbar": "Slideshow",
  "kernelspec": {
   "display_name": "Python 3",
   "language": "python",
   "name": "python3"
  },
  "language_info": {
   "codemirror_mode": {
    "name": "ipython",
    "version": 3
   },
   "file_extension": ".py",
   "mimetype": "text/x-python",
   "name": "python",
   "nbconvert_exporter": "python",
   "pygments_lexer": "ipython3",
   "version": "3.7.4"
  },
  "latex_envs": {
   "LaTeX_envs_menu_present": true,
   "autoclose": false,
   "autocomplete": true,
   "bibliofile": "biblio.bib",
   "cite_by": "apalike",
   "current_citInitial": 1,
   "eqLabelWithNumbers": true,
   "eqNumInitial": 1,
   "hotkeys": {
    "equation": "Ctrl-E",
    "itemize": "Ctrl-I"
   },
   "labels_anchors": false,
   "latex_user_defs": false,
   "report_style_numbering": false,
   "user_envs_cfg": false
  },
  "toc": {
   "base_numbering": 1,
   "nav_menu": {},
   "number_sections": true,
   "sideBar": true,
   "skip_h1_title": false,
   "title_cell": "Table of Contents",
   "title_sidebar": "Contents",
   "toc_cell": false,
   "toc_position": {},
   "toc_section_display": true,
   "toc_window_display": false
  },
  "varInspector": {
   "cols": {
    "lenName": 16,
    "lenType": 16,
    "lenVar": 40
   },
   "kernels_config": {
    "python": {
     "delete_cmd_postfix": "",
     "delete_cmd_prefix": "del ",
     "library": "var_list.py",
     "varRefreshCmd": "print(var_dic_list())"
    },
    "r": {
     "delete_cmd_postfix": ") ",
     "delete_cmd_prefix": "rm(",
     "library": "var_list.r",
     "varRefreshCmd": "cat(var_dic_list()) "
    }
   },
   "types_to_exclude": [
    "module",
    "function",
    "builtin_function_or_method",
    "instance",
    "_Feature"
   ],
   "window_display": false
  }
 },
 "nbformat": 4,
 "nbformat_minor": 4
}
