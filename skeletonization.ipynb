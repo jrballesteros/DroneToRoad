{
 "cells": [
  {
   "cell_type": "markdown",
   "metadata": {
    "toc": true
   },
   "source": [
    "<h1>Table of Contents<span class=\"tocSkip\"></span></h1>\n",
    "<div class=\"toc\"><ul class=\"toc-item\"></ul></div>"
   ]
  },
  {
   "cell_type": "code",
   "execution_count": 4,
   "metadata": {
    "ExecuteTime": {
     "end_time": "2020-10-07T14:44:20.312757Z",
     "start_time": "2020-10-07T14:44:20.157951Z"
    },
    "slideshow": {
     "slide_type": "slide"
    }
   },
   "outputs": [
    {
     "data": {
      "text/plain": [
       "7"
      ]
     },
     "execution_count": 4,
     "metadata": {},
     "output_type": "execute_result"
    }
   ],
   "source": [
    "from skimage.morphology import skeletonize\n",
    "from skimage import draw\n",
    "from skimage.io import imread, imshow\n",
    "from skimage.color import rgb2gray\n",
    "import os\n",
    "import matplotlib.pyplot as plt\n",
    "import matplotlib.image as mpimg"
   ]
  },
  {
   "cell_type": "code",
   "execution_count": 10,
   "metadata": {
    "ExecuteTime": {
     "end_time": "2020-10-03T13:44:01.750675Z",
     "start_time": "2020-10-03T13:44:01.295324Z"
    },
    "slideshow": {
     "slide_type": "slide"
    }
   },
   "outputs": [
    {
     "data": {
      "image/png": "[encoded data removed]",
      "text/plain": [
       "<Figure size 432x288 with 1 Axes>"
      ]
     },
     "metadata": {
      "needs_background": "light"
     },
     "output_type": "display_data"
    }
   ],
   "source": [
    "import matplotlib.pyplot as plt\n",
    "import cv2\n",
    "img_fname='C:/Users/john/Documents/Masks/4312_predictv3.jpg'\n",
    "img = cv2.imread(img_fname)\n",
    "# calculate frequency of pixels in range 0-255 \n",
    "histg = cv2.calcHist([img],[0],None,[256],[0,256])  \n",
    "plt.plot(histg) \n",
    "plt.show() \n",
    "\n",
    "# calculate mean value from RGB channels and flatten to 1D array\n",
    "##values = im.mean(axis=2).flatten()\n",
    "# plot histogram with 255 bins\n",
    "##counts, bins = np.histogram(values, range(257))\n",
    "# plot histogram centered on values 0..255\n",
    "##plt.bar(bins[:-1] - 0.5, counts, width=1, edgecolor='none')\n",
    "##plt.xlim([-0.5,255.5])\n",
    "##plt.show()"
   ]
  },
  {
   "cell_type": "code",
   "execution_count": 15,
   "metadata": {
    "ExecuteTime": {
     "end_time": "2020-10-03T14:08:40.992662Z",
     "start_time": "2020-10-03T14:08:40.547984Z"
    },
    "slideshow": {
     "slide_type": "slide"
    }
   },
   "outputs": [
    {
     "data": {
      "image/png": "[encoded data removed]",
      "text/plain": [
       "<Figure size 432x288 with 2 Axes>"
      ]
     },
     "metadata": {
      "needs_background": "light"
     },
     "output_type": "display_data"
    }
   ],
   "source": [
    "import matplotlib.pyplot as plt\n",
    "from skimage import img_as_bool\n",
    "from skimage.io import imread\n",
    "from skimage.color import rgb2gray\n",
    "from skimage.morphology import skeletonize, binary_closing\n",
    "\n",
    "im = img_as_bool(rgb2gray(imread(img_fname)))\n",
    "out = binary_closing(skeletonize(im))\n",
    "\n",
    "mpimg.imsave(mypath+\"4312_sk4.jpg\", out)\n",
    "mpimg.imsave(mypath+\"4312_msk4.jpg\", im)\n",
    "\n",
    "f, (ax0, ax1) = plt.subplots(1, 2)\n",
    "ax0.imshow(im, cmap='gray', interpolation='nearest')\n",
    "ax1.imshow(out, cmap='gray', interpolation='nearest')\n",
    "plt.show()"
   ]
  },
  {
   "cell_type": "code",
   "execution_count": 16,
   "metadata": {
    "ExecuteTime": {
     "end_time": "2020-10-03T14:22:40.024244Z",
     "start_time": "2020-10-03T14:22:39.420452Z"
    },
    "slideshow": {
     "slide_type": "slide"
    }
   },
   "outputs": [
    {
     "data": {
      "image/png": "[encoded data removed]",
      "text/plain": [
       "<Figure size 432x288 with 2 Axes>"
      ]
     },
     "metadata": {
      "needs_background": "light"
     },
     "output_type": "display_data"
    }
   ],
   "source": [
    "import matplotlib.pyplot as plt\n",
    "from skimage.io import imread\n",
    "from skimage.filters import threshold_otsu\n",
    "from skimage.color import rgb2gray\n",
    "from skimage.morphology import skeletonize, binary_closing\n",
    "\n",
    "def get_binary(img):    \n",
    "    thresh = threshold_otsu(img)\n",
    "    binary = img > thresh\n",
    "    return binary\n",
    "\n",
    "im = get_binary(rgb2gray(imread(img_fname)))\n",
    "out = binary_closing(skeletonize(im))\n",
    "\n",
    "mpimg.imsave(mypath+\"4312_sk5.jpg\", out)\n",
    "mpimg.imsave(mypath+\"4312_msk5.jpg\", im)\n",
    "\n",
    "f, (ax0, ax1) = plt.subplots(1, 2)\n",
    "ax0.imshow(im, cmap='gray', interpolation='nearest')\n",
    "ax1.imshow(out, cmap='gray', interpolation='nearest')\n",
    "plt.show()"
   ]
  },
  {
   "cell_type": "code",
   "execution_count": 3,
   "metadata": {
    "ExecuteTime": {
     "end_time": "2020-10-06T20:43:22.958381Z",
     "start_time": "2020-10-06T20:43:22.947414Z"
    },
    "slideshow": {
     "slide_type": "slide"
    }
   },
   "outputs": [
    {
     "data": {
      "text/plain": [
       "9.00900900900901e-06"
      ]
     },
     "execution_count": 3,
     "metadata": {},
     "output_type": "execute_result"
    }
   ],
   "source": [
    "1/111000."
   ]
  },
  {
   "cell_type": "code",
   "execution_count": 18,
   "metadata": {
    "ExecuteTime": {
     "end_time": "2020-10-03T14:58:05.200131Z",
     "start_time": "2020-10-03T14:58:02.775831Z"
    },
    "slideshow": {
     "slide_type": "slide"
    }
   },
   "outputs": [
    {
     "name": "stdout",
     "output_type": "stream",
     "text": [
      "JPEG\n",
      "RGB\n",
      "(256, 256)\n"
     ]
    }
   ],
   "source": [
    "\n",
    "# load and show an image with Pillow\n",
    "from PIL import Image\n",
    "# load the image\n",
    "image = Image.open(img_fname)\n",
    "# summarize some details about the image\n",
    "print(image.format)\n",
    "print(image.mode)\n",
    "print(image.size)\n",
    "# show the image\n",
    "image.show()"
   ]
  },
  {
   "cell_type": "code",
   "execution_count": 25,
   "metadata": {
    "ExecuteTime": {
     "end_time": "2020-10-03T16:20:44.971078Z",
     "start_time": "2020-10-03T16:20:44.493359Z"
    },
    "slideshow": {
     "slide_type": "slide"
    }
   },
   "outputs": [
    {
     "data": {
      "image/png": "[encoded data removed]",
      "text/plain": [
       "<Figure size 432x288 with 4 Axes>"
      ]
     },
     "metadata": {
      "needs_background": "light"
     },
     "output_type": "display_data"
    }
   ],
   "source": [
    "# load image from file\n",
    "mypath='C:/Users/john/Documents/Masks/'\n",
    "img_fname='C:/Users/john/Documents/Masks/4312_predict3.jpg'\n",
    "myimg = 'C:/Users/john/Documents/Masks/4312.jpg'\n",
    "\n",
    "imag = imread(img_fname)\n",
    "image=imread(img_fname)\n",
    "img = imread(myimg)\n",
    "\n",
    "# Change RGB color to gray \n",
    "#image=rgb2gray(image)\n",
    "\n",
    "# Change gray image to binary\n",
    "image=np.where(image>np.mean(image),1.0,0.0)\n",
    "\n",
    "# perform skeletonization\n",
    "skeleton = skeletonize(image)\n",
    "import matplotlib.image as mpimg\n",
    "mpimg.imsave(mypath+\"4312_sk3.jpg\", skeleton)\n",
    "mpimg.imsave(mypath+\"4312_msk3.jpg\", image)\n",
    "\n",
    "#plt.imshow(skeleton)\n",
    "f, (ax0, ax1, ax2, ax3) = plt.subplots(1, 4)\n",
    "ax0.imshow(skeleton)\n",
    "ax1.imshow(image)\n",
    "ax2.imshow(img)\n",
    "ax3.imshow(imag)\n",
    "plt.show()"
   ]
  }
 ],
 "metadata": {
  "celltoolbar": "Slideshow",
  "kernelspec": {
   "display_name": "Python 3",
   "language": "python",
   "name": "python3"
  },
  "language_info": {
   "codemirror_mode": {
    "name": "ipython",
    "version": 3
   },
   "file_extension": ".py",
   "mimetype": "text/x-python",
   "name": "python",
   "nbconvert_exporter": "python",
   "pygments_lexer": "ipython3",
   "version": "3.7.4"
  },
  "latex_envs": {
   "LaTeX_envs_menu_present": true,
   "autoclose": false,
   "autocomplete": true,
   "bibliofile": "biblio.bib",
   "cite_by": "apalike",
   "current_citInitial": 1,
   "eqLabelWithNumbers": true,
   "eqNumInitial": 1,
   "hotkeys": {
    "equation": "Ctrl-E",
    "itemize": "Ctrl-I"
   },
   "labels_anchors": false,
   "latex_user_defs": false,
   "report_style_numbering": false,
   "user_envs_cfg": false
  },
  "toc": {
   "base_numbering": 1,
   "nav_menu": {
    "height": "134px",
    "width": "197px"
   },
   "number_sections": true,
   "sideBar": true,
   "skip_h1_title": false,
   "title_cell": "Table of Contents",
   "title_sidebar": "Contents",
   "toc_cell": true,
   "toc_position": {
    "height": "calc(100% - 180px)",
    "left": "10px",
    "top": "150px",
    "width": "256px"
   },
   "toc_section_display": true,
   "toc_window_display": false
  },
  "varInspector": {
   "cols": {
    "lenName": 16,
    "lenType": 16,
    "lenVar": 40
   },
   "kernels_config": {
    "python": {
     "delete_cmd_postfix": "",
     "delete_cmd_prefix": "del ",
     "library": "var_list.py",
     "varRefreshCmd": "print(var_dic_list())"
    },
    "r": {
     "delete_cmd_postfix": ") ",
     "delete_cmd_prefix": "rm(",
     "library": "var_list.r",
     "varRefreshCmd": "cat(var_dic_list()) "
    }
   },
   "types_to_exclude": [
    "module",
    "function",
    "builtin_function_or_method",
    "instance",
    "_Feature"
   ],
   "window_display": false
  }
 },
 "nbformat": 4,
 "nbformat_minor": 4
}
