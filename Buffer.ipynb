{
 "cells": [
  {
   "cell_type": "code",
   "execution_count": 4,
   "metadata": {
    "ExecuteTime": {
     "end_time": "2020-09-23T19:10:07.900045Z",
     "start_time": "2020-09-23T19:10:07.743332Z"
    }
   },
   "outputs": [
    {
     "ename": "UnsupportedGeometryTypeError",
     "evalue": "'Line'",
     "output_type": "error",
     "traceback": [
      "\u001b[1;31m---------------------------------------------------------------------------\u001b[0m",
      "\u001b[1;31mUnsupportedGeometryTypeError\u001b[0m              Traceback (most recent call last)",
      "\u001b[1;32m<ipython-input-4-cb5e5af99e67>\u001b[0m in \u001b[0;36m<module>\u001b[1;34m\u001b[0m\n\u001b[0;32m      6\u001b[0m     \u001b[0mschema\u001b[0m \u001b[1;33m=\u001b[0m \u001b[1;33m{\u001b[0m \u001b[1;34m'geometry'\u001b[0m\u001b[1;33m:\u001b[0m \u001b[1;34m'Line'\u001b[0m\u001b[1;33m,\u001b[0m \u001b[1;34m'properties'\u001b[0m\u001b[1;33m:\u001b[0m \u001b[1;33m{\u001b[0m \u001b[1;34m'Label'\u001b[0m\u001b[1;33m:\u001b[0m \u001b[1;34m'str'\u001b[0m \u001b[1;33m}\u001b[0m \u001b[1;33m}\u001b[0m\u001b[1;33m\u001b[0m\u001b[1;33m\u001b[0m\u001b[0m\n\u001b[0;32m      7\u001b[0m     with collection(\n\u001b[1;32m----> 8\u001b[1;33m         \"buffer.shp\", \"w\", \"ESRI Shapefile\", schema) as output:\n\u001b[0m\u001b[0;32m      9\u001b[0m         \u001b[1;32mfor\u001b[0m \u001b[0mline\u001b[0m \u001b[1;32min\u001b[0m \u001b[0minput\u001b[0m\u001b[1;33m:\u001b[0m\u001b[1;33m\u001b[0m\u001b[1;33m\u001b[0m\u001b[0m\n\u001b[0;32m     10\u001b[0m             output.write({\n",
      "\u001b[1;32mc:\\users\\john\\.conda\\envs\\py37\\lib\\site-packages\\fiona\\env.py\u001b[0m in \u001b[0;36mwrapper\u001b[1;34m(*args, **kwargs)\u001b[0m\n\u001b[0;32m    403\u001b[0m             \u001b[1;32mwith\u001b[0m \u001b[0mEnv\u001b[0m\u001b[1;33m.\u001b[0m\u001b[0mfrom_defaults\u001b[0m\u001b[1;33m(\u001b[0m\u001b[0msession\u001b[0m\u001b[1;33m=\u001b[0m\u001b[0msession\u001b[0m\u001b[1;33m)\u001b[0m\u001b[1;33m:\u001b[0m\u001b[1;33m\u001b[0m\u001b[1;33m\u001b[0m\u001b[0m\n\u001b[0;32m    404\u001b[0m                 \u001b[0mlog\u001b[0m\u001b[1;33m.\u001b[0m\u001b[0mdebug\u001b[0m\u001b[1;33m(\u001b[0m\u001b[1;34m\"Credentialized: {!r}\"\u001b[0m\u001b[1;33m.\u001b[0m\u001b[0mformat\u001b[0m\u001b[1;33m(\u001b[0m\u001b[0mgetenv\u001b[0m\u001b[1;33m(\u001b[0m\u001b[1;33m)\u001b[0m\u001b[1;33m)\u001b[0m\u001b[1;33m)\u001b[0m\u001b[1;33m\u001b[0m\u001b[1;33m\u001b[0m\u001b[0m\n\u001b[1;32m--> 405\u001b[1;33m                 \u001b[1;32mreturn\u001b[0m \u001b[0mf\u001b[0m\u001b[1;33m(\u001b[0m\u001b[1;33m*\u001b[0m\u001b[0margs\u001b[0m\u001b[1;33m,\u001b[0m \u001b[1;33m**\u001b[0m\u001b[0mkwargs\u001b[0m\u001b[1;33m)\u001b[0m\u001b[1;33m\u001b[0m\u001b[1;33m\u001b[0m\u001b[0m\n\u001b[0m\u001b[0;32m    406\u001b[0m     \u001b[1;32mreturn\u001b[0m \u001b[0mwrapper\u001b[0m\u001b[1;33m\u001b[0m\u001b[1;33m\u001b[0m\u001b[0m\n\u001b[0;32m    407\u001b[0m \u001b[1;33m\u001b[0m\u001b[0m\n",
      "\u001b[1;32mc:\\users\\john\\.conda\\envs\\py37\\lib\\site-packages\\fiona\\__init__.py\u001b[0m in \u001b[0;36mopen\u001b[1;34m(fp, mode, driver, schema, crs, encoding, layer, vfs, enabled_drivers, crs_wkt, **kwargs)\u001b[0m\n\u001b[0;32m    261\u001b[0m             c = Collection(path, mode, crs=crs, driver=driver, schema=this_schema,\n\u001b[0;32m    262\u001b[0m                            \u001b[0mencoding\u001b[0m\u001b[1;33m=\u001b[0m\u001b[0mencoding\u001b[0m\u001b[1;33m,\u001b[0m \u001b[0mlayer\u001b[0m\u001b[1;33m=\u001b[0m\u001b[0mlayer\u001b[0m\u001b[1;33m,\u001b[0m \u001b[0menabled_drivers\u001b[0m\u001b[1;33m=\u001b[0m\u001b[0menabled_drivers\u001b[0m\u001b[1;33m,\u001b[0m \u001b[0mcrs_wkt\u001b[0m\u001b[1;33m=\u001b[0m\u001b[0mcrs_wkt\u001b[0m\u001b[1;33m,\u001b[0m\u001b[1;33m\u001b[0m\u001b[1;33m\u001b[0m\u001b[0m\n\u001b[1;32m--> 263\u001b[1;33m                            **kwargs)\n\u001b[0m\u001b[0;32m    264\u001b[0m         \u001b[1;32melse\u001b[0m\u001b[1;33m:\u001b[0m\u001b[1;33m\u001b[0m\u001b[1;33m\u001b[0m\u001b[0m\n\u001b[0;32m    265\u001b[0m             raise ValueError(\n",
      "\u001b[1;32mc:\\users\\john\\.conda\\envs\\py37\\lib\\site-packages\\fiona\\collection.py\u001b[0m in \u001b[0;36m__init__\u001b[1;34m(self, path, mode, driver, schema, crs, encoding, layer, vsi, archive, enabled_drivers, crs_wkt, ignore_fields, ignore_geometry, **kwargs)\u001b[0m\n\u001b[0;32m    160\u001b[0m             \u001b[1;32melif\u001b[0m \u001b[0mself\u001b[0m\u001b[1;33m.\u001b[0m\u001b[0mmode\u001b[0m \u001b[1;32min\u001b[0m \u001b[1;33m(\u001b[0m\u001b[1;34m'a'\u001b[0m\u001b[1;33m,\u001b[0m \u001b[1;34m'w'\u001b[0m\u001b[1;33m)\u001b[0m\u001b[1;33m:\u001b[0m\u001b[1;33m\u001b[0m\u001b[1;33m\u001b[0m\u001b[0m\n\u001b[0;32m    161\u001b[0m                 \u001b[0mself\u001b[0m\u001b[1;33m.\u001b[0m\u001b[0msession\u001b[0m \u001b[1;33m=\u001b[0m \u001b[0mWritingSession\u001b[0m\u001b[1;33m(\u001b[0m\u001b[1;33m)\u001b[0m\u001b[1;33m\u001b[0m\u001b[1;33m\u001b[0m\u001b[0m\n\u001b[1;32m--> 162\u001b[1;33m                 \u001b[0mself\u001b[0m\u001b[1;33m.\u001b[0m\u001b[0msession\u001b[0m\u001b[1;33m.\u001b[0m\u001b[0mstart\u001b[0m\u001b[1;33m(\u001b[0m\u001b[0mself\u001b[0m\u001b[1;33m,\u001b[0m \u001b[1;33m**\u001b[0m\u001b[0mkwargs\u001b[0m\u001b[1;33m)\u001b[0m\u001b[1;33m\u001b[0m\u001b[1;33m\u001b[0m\u001b[0m\n\u001b[0m\u001b[0;32m    163\u001b[0m         \u001b[1;32mexcept\u001b[0m \u001b[0mIOError\u001b[0m\u001b[1;33m:\u001b[0m\u001b[1;33m\u001b[0m\u001b[1;33m\u001b[0m\u001b[0m\n\u001b[0;32m    164\u001b[0m             \u001b[0mself\u001b[0m\u001b[1;33m.\u001b[0m\u001b[0msession\u001b[0m \u001b[1;33m=\u001b[0m \u001b[1;32mNone\u001b[0m\u001b[1;33m\u001b[0m\u001b[1;33m\u001b[0m\u001b[0m\n",
      "\u001b[1;32mfiona/ogrext.pyx\u001b[0m in \u001b[0;36mfiona.ogrext.WritingSession.start\u001b[1;34m()\u001b[0m\n",
      "\u001b[1;32mfiona/_geometry.pyx\u001b[0m in \u001b[0;36mfiona._geometry.geometry_type_code\u001b[1;34m()\u001b[0m\n",
      "\u001b[1;31mUnsupportedGeometryTypeError\u001b[0m: 'Line'"
     ]
    }
   ],
   "source": [
    "from shapely.geometry import mapping, shape\n",
    "from fiona import collection\n",
    "\n",
    "with collection(\"some.shp\", \"r\") as input:\n",
    "    # schema = input.schema.copy()\n",
    "    schema = { 'geometry': 'Line', 'properties': { 'Label': 'str' } }\n",
    "    with collection(\n",
    "        \"buffer.shp\", \"w\", \"ESRI Shapefile\", schema) as output:\n",
    "        for line in input:\n",
    "            output.write({\n",
    "                'properties': {\n",
    "                    'name': polygon['properties']['name']\n",
    "                },\n",
    "                'geometry': mapping(shape(polygon['geometry']).buffer(5.0))\n",
    "            })"
   ]
  },
  {
   "cell_type": "code",
   "execution_count": 9,
   "metadata": {
    "ExecuteTime": {
     "end_time": "2020-09-23T20:07:15.989789Z",
     "start_time": "2020-09-23T20:07:15.526981Z"
    }
   },
   "outputs": [],
   "source": [
    "import ogr, os\n",
    "\n",
    "def createBuffer(inputfn, outputBufferfn, bufferDist):\n",
    "    inputds = ogr.Open(inputfn)\n",
    "    inputlyr = inputds.GetLayer()\n",
    "\n",
    "    shpdriver = ogr.GetDriverByName('ESRI Shapefile')\n",
    "    if os.path.exists(outputBufferfn):\n",
    "        shpdriver.DeleteDataSource(outputBufferfn)\n",
    "    outputBufferds = shpdriver.CreateDataSource(outputBufferfn)\n",
    "    bufferlyr = outputBufferds.CreateLayer(outputBufferfn, geom_type=ogr.wkbPolygon)\n",
    "    featureDefn = bufferlyr.GetLayerDefn()\n",
    "\n",
    "    for feature in inputlyr:\n",
    "        ingeom = feature.GetGeometryRef()\n",
    "        geomBuffer = ingeom.Buffer(bufferDist)\n",
    "\n",
    "        outFeature = ogr.Feature(featureDefn)\n",
    "        outFeature.SetGeometry(geomBuffer)\n",
    "        bufferlyr.CreateFeature(outFeature)\n",
    "        outFeature = None\n",
    "\n",
    "def main(inputfn, outputBufferfn, bufferDist):\n",
    "    createBuffer(inputfn, outputBufferfn, bufferDist)\n",
    "\n",
    "\n",
    "if __name__ == \"__main__\":\n",
    "    inputfn = 'some.shp'\n",
    "    outputBufferfn = 'testBuffer.shp'\n",
    "    bufferDist = 1.5/111000.\n",
    "\n",
    "    main(inputfn, outputBufferfn, bufferDist)"
   ]
  },
  {
   "cell_type": "code",
   "execution_count": 8,
   "metadata": {
    "ExecuteTime": {
     "end_time": "2020-09-23T19:39:53.995408Z",
     "start_time": "2020-09-23T19:39:53.989423Z"
    }
   },
   "outputs": [
    {
     "name": "stdout",
     "output_type": "stream",
     "text": [
      "Object `.Buffer()` not found.\n"
     ]
    }
   ],
   "source": [
    "??.Buffer()"
   ]
  },
  {
   "cell_type": "code",
   "execution_count": 3,
   "metadata": {
    "ExecuteTime": {
     "end_time": "2021-04-23T14:42:47.792005Z",
     "start_time": "2021-04-23T14:42:47.581376Z"
    }
   },
   "outputs": [
    {
     "name": "stdout",
     "output_type": "stream",
     "text": [
      "El buffer de: 1.8006e-05 metros fue creado con éxito\n"
     ]
    }
   ],
   "source": [
    "import geopandas as gp\n",
    "import os\n",
    "\n",
    "#inshp = r'C:\\Users\\john\\Downloads\\PythonCourseUN\\software'\n",
    "inshp = r'C:\\Users\\john\\Downloads\\Automap\\datos'\n",
    "outbuff = r'C:\\Users\\john\\Downloads\\Automap\\datos'\n",
    "#outbuff =r'C:\\Users\\john\\Downloads\\PythonCourseUN\\software'\n",
    "#bufferDist = 2/111000.\n",
    "#bufferDist = 2\n",
    "bufferDist = 2*0.000009003\n",
    "bufferout = 'roads_buffer.shp'\n",
    "shpname = 'ViasRetiro.shp'\n",
    "\n",
    "df = gp.GeoDataFrame.from_file(os.path.join(inshp, shpname))\n",
    "#buffer = df.buffer(100, cap_style=2)\n",
    "#df = df.geometry.to_crs(\"epsg:3857\")\n",
    "#df = df.to_crs('epsg:3116')  \n",
    "\n",
    "# Assumes that geometry will be the geometry column\n",
    "#capped_lines = df.geometry.apply(lambda g: g.buffer(bufferDist, cap_style=2))\n",
    "capped_lines = df.geometry.apply(lambda g: g.buffer(bufferDist, cap_style=2))\n",
    "#gdf.geometry.to_crs(\"epsg:3857\").buffer(10, cap_style=2)\n",
    "\n",
    "#new = gp.GeoDataFrame(capped_lines)\n",
    "#new = new.to_crs('4326')\n",
    "#new.to_files(os.path.join(outbuff, 'buff.shp'))\n",
    "\n",
    "#capped_lines.to_crf(\"epsg:4326\")\n",
    "capped_lines.to_file(os.path.join(outbuff, bufferout))\n",
    "#capped_lines.head()\n",
    "\n",
    "#new = gp.GeoDataFrame(capped_lines)\n",
    "#new = new.to_crs({'init': 'epsg:3116'},\"epsg:4326\")\n",
    "#new2 = new[['geometry']]\n",
    "#new2 = new.dissolve(by='geometry')\n",
    "#new.to_file(os.path.join(outbuff, 'buff.shp'))\n",
    "#new2.plot()\n",
    "\n",
    "print(\"El buffer de:\", bufferDist, \"metros fue creado con éxito\")"
   ]
  },
  {
   "cell_type": "code",
   "execution_count": 81,
   "metadata": {
    "ExecuteTime": {
     "end_time": "2021-04-11T20:21:06.075356Z",
     "start_time": "2021-04-11T20:21:06.061392Z"
    }
   },
   "outputs": [
    {
     "name": "stdout",
     "output_type": "stream",
     "text": [
      "8.987580848438867e-06\n"
     ]
    }
   ],
   "source": [
    "km = 6375*1*3.14159*1000/180.\n",
    "print(1./km)"
   ]
  },
  {
   "cell_type": "code",
   "execution_count": null,
   "metadata": {
    "ExecuteTime": {
     "end_time": "2021-04-11T15:36:10.710113Z",
     "start_time": "2021-04-11T15:36:10.675589Z"
    }
   },
   "outputs": [],
   "source": [
    "0.000009009"
   ]
  },
  {
   "cell_type": "code",
   "execution_count": 1,
   "metadata": {
    "ExecuteTime": {
     "end_time": "2021-04-25T20:07:46.533155Z",
     "start_time": "2021-04-25T20:07:46.500643Z"
    }
   },
   "outputs": [
    {
     "data": {
      "text/plain": [
       "1.801801801801802e-05"
      ]
     },
     "execution_count": 1,
     "metadata": {},
     "output_type": "execute_result"
    }
   ],
   "source": [
    "2/111000"
   ]
  },
  {
   "cell_type": "code",
   "execution_count": 1,
   "metadata": {
    "ExecuteTime": {
     "end_time": "2021-04-23T13:46:36.942912Z",
     "start_time": "2021-04-23T13:46:36.906847Z"
    }
   },
   "outputs": [
    {
     "data": {
      "text/plain": [
       "9.00900900900901e-06"
      ]
     },
     "execution_count": 1,
     "metadata": {},
     "output_type": "execute_result"
    }
   ],
   "source": [
    "1/111000"
   ]
  }
 ],
 "metadata": {
  "kernelspec": {
   "display_name": "Python 3",
   "language": "python",
   "name": "python3"
  },
  "language_info": {
   "codemirror_mode": {
    "name": "ipython",
    "version": 3
   },
   "file_extension": ".py",
   "mimetype": "text/x-python",
   "name": "python",
   "nbconvert_exporter": "python",
   "pygments_lexer": "ipython3",
   "version": "3.7.4"
  },
  "latex_envs": {
   "LaTeX_envs_menu_present": true,
   "autoclose": false,
   "autocomplete": true,
   "bibliofile": "biblio.bib",
   "cite_by": "apalike",
   "current_citInitial": 1,
   "eqLabelWithNumbers": true,
   "eqNumInitial": 1,
   "hotkeys": {
    "equation": "Ctrl-E",
    "itemize": "Ctrl-I"
   },
   "labels_anchors": false,
   "latex_user_defs": false,
   "report_style_numbering": false,
   "user_envs_cfg": false
  },
  "toc": {
   "base_numbering": 1,
   "nav_menu": {},
   "number_sections": true,
   "sideBar": true,
   "skip_h1_title": false,
   "title_cell": "Table of Contents",
   "title_sidebar": "Contents",
   "toc_cell": false,
   "toc_position": {},
   "toc_section_display": true,
   "toc_window_display": false
  },
  "varInspector": {
   "cols": {
    "lenName": 16,
    "lenType": 16,
    "lenVar": 40
   },
   "kernels_config": {
    "python": {
     "delete_cmd_postfix": "",
     "delete_cmd_prefix": "del ",
     "library": "var_list.py",
     "varRefreshCmd": "print(var_dic_list())"
    },
    "r": {
     "delete_cmd_postfix": ") ",
     "delete_cmd_prefix": "rm(",
     "library": "var_list.r",
     "varRefreshCmd": "cat(var_dic_list()) "
    }
   },
   "types_to_exclude": [
    "module",
    "function",
    "builtin_function_or_method",
    "instance",
    "_Feature"
   ],
   "window_display": false
  }
 },
 "nbformat": 4,
 "nbformat_minor": 4
}
